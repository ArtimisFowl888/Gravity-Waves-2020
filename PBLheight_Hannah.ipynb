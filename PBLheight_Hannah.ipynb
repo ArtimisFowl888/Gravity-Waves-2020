{
 "cells": [
  {
   "cell_type": "code",
   "execution_count": 1,
   "metadata": {},
   "outputs": [],
   "source": [
    "###########################################################################\n",
    "###########################################################################\n",
    "#           PBL Height Determination with 3 Different Methods             #        \n",
    "###########################################################################\n",
    "###########################################################################\n",
    "#\n",
    "#\n",
    "# This code calculates planetary boundary height (PBL) using three \n",
    "# different methods. Each method outputs a height and the methods are \n",
    "# plotted with the PBLHs found. \n",
    "#\n",
    "# The first method is the Richardson number method. The PBL height is\n",
    "# defined to be the lowest altitude where richardson number Ri(z) = 0.25. \n",
    "# \n",
    "# The second methd is the potential temperature gradient method. The\n",
    "# vertical gradient of potential temperature is calculated and the maximum\n",
    "# of the gradient is defined as the PBL height.\n",
    "#\n",
    "# The third method is the specific humidity gradient method. The vertical\n",
    "# gradient of specific humidity is calculated and the minimum of the\n",
    "# gradient is defined as the PBL height. \n",
    "#\n",
    "#\n",
    "###########################################################################\n",
    "###########################################################################\n",
    "#                         Set up input prompt window                      #\n",
    "###########################################################################\n",
    "###########################################################################\n",
    "\n",
    "\n"
   ]
  },
  {
   "cell_type": "code",
   "execution_count": 13,
   "metadata": {},
   "outputs": [
    {
     "ename": "NameError",
     "evalue": "name 'T' is not defined",
     "output_type": "error",
     "traceback": [
      "\u001b[1;31m---------------------------------------------------------------------------\u001b[0m",
      "\u001b[1;31mNameError\u001b[0m                                 Traceback (most recent call last)",
      "\u001b[1;32m<ipython-input-13-cd5cdc8ded12>\u001b[0m in \u001b[0;36m<module>\u001b[1;34m\u001b[0m\n\u001b[0;32m     13\u001b[0m \u001b[1;32mimport\u001b[0m \u001b[0mmath\u001b[0m\u001b[1;33m\u001b[0m\u001b[1;33m\u001b[0m\u001b[0m\n\u001b[0;32m     14\u001b[0m \u001b[1;33m\u001b[0m\u001b[0m\n\u001b[1;32m---> 15\u001b[1;33m \u001b[0mtk\u001b[0m \u001b[1;33m=\u001b[0m \u001b[0mT\u001b[0m\u001b[1;33m+\u001b[0m\u001b[1;36m273.15\u001b[0m\u001b[1;33m;\u001b[0m \u001b[1;31m#Temperature in Kelvin\u001b[0m\u001b[1;33m\u001b[0m\u001b[1;33m\u001b[0m\u001b[0m\n\u001b[0m\u001b[0;32m     16\u001b[0m \u001b[0mhi\u001b[0m \u001b[1;33m=\u001b[0m \u001b[0mAlt\u001b[0m\u001b[1;33m-\u001b[0m\u001b[0mAlt\u001b[0m\u001b[1;33m(\u001b[0m\u001b[1;36m1\u001b[0m\u001b[1;33m)\u001b[0m\u001b[1;33m;\u001b[0m \u001b[1;31m#height above ground in meters\u001b[0m\u001b[1;33m\u001b[0m\u001b[1;33m\u001b[0m\u001b[0m\n\u001b[0;32m     17\u001b[0m \u001b[1;33m\u001b[0m\u001b[0m\n",
      "\u001b[1;31mNameError\u001b[0m: name 'T' is not defined"
     ]
    }
   ],
   "source": [
    "# This function calculates richardson number along with the variables (like\n",
    "# potential temperature) needed to calculate richardson number. It then\n",
    "# searches for where Ri(z) is near 0.25 and interpolates to get the height\n",
    "# z where Ri(z) = 0.25.\n",
    "#\n",
    "# INPUTS: temperature in C, temperature in K, altitude in meters, height in\n",
    "# meters, pressure in hPa, humidity as decimal value, wind speed in m/s,\n",
    "# and wind direction in degrees.\n",
    "#\n",
    "# OUTPUTS: PBL height, potential temperature, water vaport mixing ratio, and\n",
    "# richardson number \n",
    "\n",
    "import math\n",
    "\n",
    "tk = T+273.15; #Temperature in Kelvin\n",
    "hi = Alt-Alt(1); #height above ground in meters\n",
    "\n",
    "#epsilon, unitless constant\n",
    "epsilon = 0.622; \n",
    "\n",
    "#saturation vapor pressure\n",
    "es = 6.1121*math.exp((18.678-(T/234.84))*(T/(257.14+T))); #hPa\n",
    "\n",
    "#vapor pressure\n",
    "e = es*Hu; #hPa\n",
    "\n",
    "#water vapor mixing ratio\n",
    "rvv = (epsilon*e)/(P-e); #unitless\n",
    "\n",
    "#potential temperature\n",
    "pot = (1000.0^0.286)*tk/(P^0.286); #kelvin\n",
    "\n",
    "#virtual potential temperature\n",
    "vpt = pot*((1+(rvv/epsilon))/(1+rvv)); #kelvin\n",
    "\n",
    "#component wid speeds, m/s\n",
    "u = Ws*cos(deg2rad(Wd)); \n",
    "v = Ws*sin(deg2rad(Wd));\n",
    "\n",
    "Alt0 = Alt(1); #surface altitude\n",
    "vpt0 = vpt(1); #virtual potential temperature at surface\n",
    "g = 9.81;\n",
    "\n",
    "#Richardson number. If surface wind speeds are zero, the first data point\n",
    "#will be an inf or NAN.\n",
    "\n",
    "def PBLri(T, tk, Alt, hi, P, Hu, Ws, Wd):\n",
    "    ri = (((vpt-vpt0)/vpt0)*(Alt-Alt0)*g)/((u)^2+(v)^2)\n",
    "    return ri"
   ]
  },
  {
   "cell_type": "code",
   "execution_count": null,
   "metadata": {
    "scrolled": true
   },
   "outputs": [],
   "source": []
  },
  {
   "cell_type": "code",
   "execution_count": 12,
   "metadata": {},
   "outputs": [
    {
     "ename": "NameError",
     "evalue": "name 'ri' is not defined",
     "output_type": "error",
     "traceback": [
      "\u001b[1;31m---------------------------------------------------------------------------\u001b[0m",
      "\u001b[1;31mNameError\u001b[0m                                 Traceback (most recent call last)",
      "\u001b[1;32m<ipython-input-12-a15da4382746>\u001b[0m in \u001b[0;36m<module>\u001b[1;34m\u001b[0m\n\u001b[0;32m      2\u001b[0m \u001b[0midxri25L\u001b[0m \u001b[1;33m=\u001b[0m \u001b[1;33m[\u001b[0m\u001b[1;33m]\u001b[0m\u001b[1;33m\u001b[0m\u001b[1;33m\u001b[0m\u001b[0m\n\u001b[0;32m      3\u001b[0m \u001b[1;33m\u001b[0m\u001b[0m\n\u001b[1;32m----> 4\u001b[1;33m \u001b[0midxri25G\u001b[0m\u001b[1;33m.\u001b[0m\u001b[0mappend\u001b[0m\u001b[1;33m(\u001b[0m\u001b[0mri\u001b[0m\u001b[1;33m.\u001b[0m\u001b[0mfind\u001b[0m\u001b[1;33m(\u001b[0m\u001b[0mri\u001b[0m\u001b[1;33m>=\u001b[0m\u001b[1;36m0.25\u001b[0m\u001b[1;33m)\u001b[0m\u001b[1;33m)\u001b[0m \u001b[1;31m#indices of ri values greater than 0.25\u001b[0m\u001b[1;33m\u001b[0m\u001b[1;33m\u001b[0m\u001b[0m\n\u001b[0m\u001b[0;32m      5\u001b[0m \u001b[0midxri25L\u001b[0m\u001b[1;33m.\u001b[0m\u001b[0mappend\u001b[0m\u001b[1;33m(\u001b[0m\u001b[0mri\u001b[0m\u001b[1;33m.\u001b[0m\u001b[0mfind\u001b[0m\u001b[1;33m(\u001b[0m\u001b[0mri\u001b[0m\u001b[1;33m<=\u001b[0m\u001b[1;36m0.25\u001b[0m\u001b[1;33m)\u001b[0m\u001b[1;33m)\u001b[0m \u001b[1;31m#indices of ri values less than 0.25\u001b[0m\u001b[1;33m\u001b[0m\u001b[1;33m\u001b[0m\u001b[0m\n\u001b[0;32m      6\u001b[0m \u001b[1;33m\u001b[0m\u001b[0m\n",
      "\u001b[1;31mNameError\u001b[0m: name 'ri' is not defined"
     ]
    }
   ],
   "source": [
    "idxri25G = []\n",
    "idxri25L = []\n",
    "\n",
    "idxri25G.append(ri.find(ri>=0.25)) #indices of ri values greater than 0.25\n",
    "idxri25L.append(ri.find(ri<=0.25)) #indices of ri values less than 0.25\n",
    "\n",
    "if len(idxri25L) == 0:\n",
    "    pblri = 0 #if there is no ri value <0.25 then the pbl height is zero\n",
    "else:\n",
    "    if idxri25G(1)>idxri25L(1): #if ri starts below 0.25 then increases to above 0.25, idxri25G(1) is point right above 0.25\n",
    "        upper = idxri25G(1)\n",
    "        lower = idxri25G(1)-1\n",
    "        pblri = np.interp(ri[lower:upper],hi[lower:upper],0.25)\n",
    "    if idxri25G(1)<idxri25L(1): #if ri starts above 0.25 then decreases to below 0.25, idxri25L(1) is point right above 0.25\n",
    "        upper = idxri25L(1) \n",
    "        lower = idxri25L(1)-1\n",
    "        pblri = np.interp(ri[lower:upper],hi[lower:upper],0.25,)"
   ]
  },
  {
   "cell_type": "code",
   "execution_count": 18,
   "metadata": {},
   "outputs": [],
   "source": [
    "###########################################################################################################################\n",
    "###########################################################################################################################\n",
    "#                                               Potential Temp Method                                                     #\n",
    "###########################################################################################################################\n",
    "###########################################################################################################################"
   ]
  },
  {
   "cell_type": "code",
   "execution_count": 8,
   "metadata": {},
   "outputs": [],
   "source": [
    " def pblpt (hi, pot):\n",
    "        maxhidx = max(hi)\n",
    "        pth = pot[10:maxhidx]\n",
    "        upH = hi[10:maxhidx]\n",
    "        topH = 3500\n",
    "        height3k = upH(upH<=topH)\n",
    "        pt3k = pth(upH<=topH)\n",
    "        dp3k = np.gradient(pt3k,height3k)\n",
    "        dp = np.gradient(pot,hi)\n",
    "        maxdpidx = max(dp3k)\n",
    "        pblpt = height3k * maxdpidx\n",
    "        return pblpt"
   ]
  },
  {
   "cell_type": "code",
   "execution_count": 20,
   "metadata": {},
   "outputs": [],
   "source": [
    "###########################################################################################################################\n",
    "###########################################################################################################################\n",
    "#                                               Specific Humidity Method                                                     #\n",
    "###########################################################################################################################\n",
    "###########################################################################################################################\n",
    "    "
   ]
  },
  {
   "cell_type": "code",
   "execution_count": 7,
   "metadata": {},
   "outputs": [],
   "source": [
    "def pblsh (hi, rvv):\n",
    "    maxhidx = max(hi)\n",
    "    q = rvv/(1+rvv)\n",
    "    qh = q[10:maxhidx]\n",
    "    upH = hi[10:maxhidx]\n",
    "    topH = 3500\n",
    "    height3k = upH(upH<=topH)\n",
    "    q3k = qh(upH<=topH)\n",
    "    dq3k = np.gradient(q3k,height3k)\n",
    "    dq = np.gradient(q,hi)\n",
    "    mindpidx = min(dq3k)\n",
    "    pblsh = height3k * mindpidx\n",
    "    return pblsh\n"
   ]
  },
  {
   "cell_type": "code",
   "execution_count": 22,
   "metadata": {},
   "outputs": [],
   "source": [
    "###########################################################################################################################\n",
    "###########################################################################################################################\n",
    "#                                               Atmospheric Stability                                                     #\n",
    "###########################################################################################################################\n",
    "###########################################################################################################################"
   ]
  },
  {
   "cell_type": "code",
   "execution_count": 1,
   "metadata": {},
   "outputs": [],
   "source": [
    "def layer_stability (hi, pot):\n",
    "    ds = 1\n",
    "    du = 0.5\n",
    "    m150 = hi.find(hi >= 150)\n",
    "    start = m150(1)\n",
    "    diff = pot(start)-pot(1)\n",
    "\n",
    "    if diff < -ds:\n",
    "        return print(\"Convective Boundary Layer\")\n",
    "    elif diff > ds:\n",
    "        return print(\"Stable Boundary Layer\")\n",
    "    else:\n",
    "        return print(\"Neutral Residual Layer\")"
   ]
  },
  {
   "cell_type": "code",
   "execution_count": 14,
   "metadata": {},
   "outputs": [],
   "source": [
    "###########################################################################################################################\n",
    "###########################################################################################################################\n",
    "#                                                       Plotting                                                          #\n",
    "###########################################################################################################################\n",
    "###########################################################################################################################"
   ]
  },
  {
   "cell_type": "code",
   "execution_count": 15,
   "metadata": {},
   "outputs": [],
   "source": [
    "import matplotlib.pyplot as plt"
   ]
  },
  {
   "cell_type": "code",
   "execution_count": 16,
   "metadata": {},
   "outputs": [
    {
     "ename": "NameError",
     "evalue": "name 'ch1_pt' is not defined",
     "output_type": "error",
     "traceback": [
      "\u001b[1;31m---------------------------------------------------------------------------\u001b[0m",
      "\u001b[1;31mNameError\u001b[0m                                 Traceback (most recent call last)",
      "\u001b[1;32m<ipython-input-16-e32e3c5b1a8d>\u001b[0m in \u001b[0;36m<module>\u001b[1;34m\u001b[0m\n\u001b[0;32m      1\u001b[0m \u001b[1;32mimport\u001b[0m \u001b[0mnumpy\u001b[0m \u001b[1;32mas\u001b[0m \u001b[0mnp\u001b[0m\u001b[1;33m\u001b[0m\u001b[1;33m\u001b[0m\u001b[0m\n\u001b[0;32m      2\u001b[0m \u001b[1;33m\u001b[0m\u001b[0m\n\u001b[1;32m----> 3\u001b[1;33m \u001b[1;32mif\u001b[0m \u001b[0mch1_pt\u001b[0m\u001b[1;33m:\u001b[0m\u001b[1;33m\u001b[0m\u001b[1;33m\u001b[0m\u001b[0m\n\u001b[0m\u001b[0;32m      4\u001b[0m     \u001b[1;32mif\u001b[0m \u001b[0max_1\u001b[0m \u001b[1;33m==\u001b[0m \u001b[1;36m0\u001b[0m\u001b[1;33m:\u001b[0m\u001b[1;33m\u001b[0m\u001b[1;33m\u001b[0m\u001b[0m\n\u001b[0;32m      5\u001b[0m         \u001b[0mf1\u001b[0m \u001b[1;33m=\u001b[0m \u001b[0mfigure\u001b[0m\u001b[1;33m(\u001b[0m\u001b[1;33m)\u001b[0m\u001b[1;33m\u001b[0m\u001b[1;33m\u001b[0m\u001b[0m\n",
      "\u001b[1;31mNameError\u001b[0m: name 'ch1_pt' is not defined"
     ]
    }
   ],
   "source": [
    "import numpy as np\n",
    "\n",
    "if ch1_pt:\n",
    "    if ax_1 == 0:\n",
    "        f1 = figure()\n",
    "        ax_1 = axes(f1)\n",
    "        \n",
    "    cla(ax_1)\n",
    "    plt.plot(ax_1, dpt, height)\n",
    "    plt.hold(True)\n",
    "    plt.plot(ax_1, PBLpt, 'g', label = \"\\theta Method\")\n",
    "    plt.plot(ax_1, PBLri, 'r', label = \"Ri Method\")\n",
    "    plt.plot(ax_1, PBLsh, 'b', label = \"Specific Hu Method\")\n",
    "    plt.hold(False)\n",
    "    plt.title('Vertical Gradient of Potential Temperature')\n",
    "    plt.axis(ax_1, [-0.1,0.1,0,4000])\n",
    "    plt.show"
   ]
  },
  {
   "cell_type": "code",
   "execution_count": 17,
   "metadata": {},
   "outputs": [
    {
     "ename": "NameError",
     "evalue": "name 'ch2_ri' is not defined",
     "output_type": "error",
     "traceback": [
      "\u001b[1;31m---------------------------------------------------------------------------\u001b[0m",
      "\u001b[1;31mNameError\u001b[0m                                 Traceback (most recent call last)",
      "\u001b[1;32m<ipython-input-17-743971db834d>\u001b[0m in \u001b[0;36m<module>\u001b[1;34m\u001b[0m\n\u001b[1;32m----> 1\u001b[1;33m \u001b[1;32mif\u001b[0m \u001b[0mch2_ri\u001b[0m\u001b[1;33m:\u001b[0m\u001b[1;33m\u001b[0m\u001b[1;33m\u001b[0m\u001b[0m\n\u001b[0m\u001b[0;32m      2\u001b[0m     \u001b[1;32mif\u001b[0m \u001b[0max_2\u001b[0m \u001b[1;33m==\u001b[0m \u001b[1;36m0\u001b[0m\u001b[1;33m:\u001b[0m\u001b[1;33m\u001b[0m\u001b[1;33m\u001b[0m\u001b[0m\n\u001b[0;32m      3\u001b[0m         \u001b[0mf2\u001b[0m \u001b[1;33m=\u001b[0m \u001b[0mfigure\u001b[0m\u001b[1;33m(\u001b[0m\u001b[1;33m)\u001b[0m\u001b[1;33m\u001b[0m\u001b[1;33m\u001b[0m\u001b[0m\n\u001b[0;32m      4\u001b[0m         \u001b[0max_2\u001b[0m \u001b[1;33m=\u001b[0m \u001b[0maxes\u001b[0m\u001b[1;33m(\u001b[0m\u001b[0mf2\u001b[0m\u001b[1;33m)\u001b[0m\u001b[1;33m\u001b[0m\u001b[1;33m\u001b[0m\u001b[0m\n\u001b[0;32m      5\u001b[0m \u001b[1;33m\u001b[0m\u001b[0m\n",
      "\u001b[1;31mNameError\u001b[0m: name 'ch2_ri' is not defined"
     ]
    }
   ],
   "source": [
    "if ch2_ri:\n",
    "    if ax_2 == 0:\n",
    "        f2 = figure()\n",
    "        ax_2 = axes(f2)\n",
    "        \n",
    "    cla(ax_2)\n",
    "    plt.plot(ax_2, ri, height)\n",
    "    plt.hold(True)\n",
    "    plt.plot(ax_2, PBLpt, 'g', label = \"\\theta Method\")\n",
    "    plt.plot(ax_2, PBLri, 'r', label = \"Ri Method\")\n",
    "    plt.plot(ax_2, PBLsh, 'b', label = \"Specific Hu Method\")\n",
    "    plt.plot(ax_2, 0.25, label = \"Ri(z) = 0.25\")\n",
    "    plt.hold(False)\n",
    "    plt.title('Height vs. Richardson Number')\n",
    "    plt.axis(ax_2, [-3,3,0,4000])\n",
    "    plt.show"
   ]
  },
  {
   "cell_type": "code",
   "execution_count": 19,
   "metadata": {},
   "outputs": [
    {
     "ename": "NameError",
     "evalue": "name 'ch3_sh' is not defined",
     "output_type": "error",
     "traceback": [
      "\u001b[1;31m---------------------------------------------------------------------------\u001b[0m",
      "\u001b[1;31mNameError\u001b[0m                                 Traceback (most recent call last)",
      "\u001b[1;32m<ipython-input-19-1293270db377>\u001b[0m in \u001b[0;36m<module>\u001b[1;34m\u001b[0m\n\u001b[1;32m----> 1\u001b[1;33m \u001b[1;32mif\u001b[0m \u001b[0mch3_sh\u001b[0m\u001b[1;33m:\u001b[0m\u001b[1;33m\u001b[0m\u001b[1;33m\u001b[0m\u001b[0m\n\u001b[0m\u001b[0;32m      2\u001b[0m     \u001b[1;32mif\u001b[0m \u001b[0max_3\u001b[0m \u001b[1;33m==\u001b[0m \u001b[1;36m0\u001b[0m\u001b[1;33m:\u001b[0m\u001b[1;33m\u001b[0m\u001b[1;33m\u001b[0m\u001b[0m\n\u001b[0;32m      3\u001b[0m         \u001b[0mf3\u001b[0m \u001b[1;33m=\u001b[0m \u001b[0mfigure\u001b[0m\u001b[1;33m(\u001b[0m\u001b[1;33m)\u001b[0m\u001b[1;33m\u001b[0m\u001b[1;33m\u001b[0m\u001b[0m\n\u001b[0;32m      4\u001b[0m         \u001b[0max_3\u001b[0m \u001b[1;33m=\u001b[0m \u001b[0maxes\u001b[0m\u001b[1;33m(\u001b[0m\u001b[0mf3\u001b[0m\u001b[1;33m)\u001b[0m\u001b[1;33m\u001b[0m\u001b[1;33m\u001b[0m\u001b[0m\n\u001b[0;32m      5\u001b[0m \u001b[1;33m\u001b[0m\u001b[0m\n",
      "\u001b[1;31mNameError\u001b[0m: name 'ch3_sh' is not defined"
     ]
    }
   ],
   "source": [
    "if ch3_sh:\n",
    "    if ax_3 == 0:\n",
    "        f3 = figure()\n",
    "        ax_3 = axes(f3)\n",
    "        \n",
    "    cla(ax_3)\n",
    "    plt.plot(ax_3, dsh, height)\n",
    "    plt.hold(True)\n",
    "    plt.plot(ax_3, PBLpt, 'g', label = \"\\theta Method\")\n",
    "    plt.plot(ax_3, PBLri, 'r', label = \"Ri Method\")\n",
    "    plt.plot(ax_3, PBLsh, 'b', label = \"Specific Hu Method\")\n",
    "    plt.hold(False)\n",
    "    plt.title('Vertical Gradient of Specific Humidity')\n",
    "    plt.axis(ax_3, [-0.000035,0.000035,0,4000])\n",
    "    plt.show"
   ]
  },
  {
   "cell_type": "code",
   "execution_count": 20,
   "metadata": {},
   "outputs": [
    {
     "ename": "NameError",
     "evalue": "name 'ax_4' is not defined",
     "output_type": "error",
     "traceback": [
      "\u001b[1;31m---------------------------------------------------------------------------\u001b[0m",
      "\u001b[1;31mNameError\u001b[0m                                 Traceback (most recent call last)",
      "\u001b[1;32m<ipython-input-20-6f3d9ec8929b>\u001b[0m in \u001b[0;36m<module>\u001b[1;34m\u001b[0m\n\u001b[1;32m----> 1\u001b[1;33m \u001b[1;32mif\u001b[0m \u001b[0max_4\u001b[0m \u001b[1;33m==\u001b[0m \u001b[1;36m0\u001b[0m\u001b[1;33m:\u001b[0m\u001b[1;33m\u001b[0m\u001b[1;33m\u001b[0m\u001b[0m\n\u001b[0m\u001b[0;32m      2\u001b[0m     \u001b[0mf4\u001b[0m \u001b[1;33m=\u001b[0m \u001b[0mfigure\u001b[0m\u001b[1;33m(\u001b[0m\u001b[1;33m)\u001b[0m\u001b[1;33m\u001b[0m\u001b[1;33m\u001b[0m\u001b[0m\n\u001b[0;32m      3\u001b[0m     \u001b[0max_4\u001b[0m \u001b[1;33m=\u001b[0m \u001b[0maxes\u001b[0m\u001b[1;33m(\u001b[0m\u001b[0mf4\u001b[0m\u001b[1;33m)\u001b[0m\u001b[1;33m\u001b[0m\u001b[1;33m\u001b[0m\u001b[0m\n\u001b[0;32m      4\u001b[0m \u001b[1;33m\u001b[0m\u001b[0m\n\u001b[0;32m      5\u001b[0m     \u001b[0mcla\u001b[0m\u001b[1;33m(\u001b[0m\u001b[0max_4\u001b[0m\u001b[1;33m)\u001b[0m\u001b[1;33m\u001b[0m\u001b[1;33m\u001b[0m\u001b[0m\n",
      "\u001b[1;31mNameError\u001b[0m: name 'ax_4' is not defined"
     ]
    }
   ],
   "source": [
    "if ax_4 == 0:\n",
    "    f4 = figure()\n",
    "    ax_4 = axes(f4)\n",
    "    \n",
    "    cla(ax_4)\n",
    "    plt.plot(ax_4, pt, height)\n",
    "    plt.hold(True)\n",
    "    plt.plot(ax_4, tk, height)\n",
    "    plt.plot(ax_4, PBLpt, 'g', label = \"\\theta Method\")\n",
    "    plt.plot(ax_4, PBLri, 'r', label = \"Ri Method\")\n",
    "    plt.plot(ax_4, PBLsh, 'b', label = \"Specific Hu Method\")\n",
    "    plt.hold(False)\n",
    "    plt.title('Potential Temperature & Temperature (K)')\n",
    "    plt.axis(ax_4, [280,320,0,4000])\n",
    "    plt.show"
   ]
  },
  {
   "cell_type": "code",
   "execution_count": null,
   "metadata": {},
   "outputs": [],
   "source": []
  }
 ],
 "metadata": {
  "kernelspec": {
   "display_name": "Python 3",
   "language": "python",
   "name": "python3"
  },
  "language_info": {
   "codemirror_mode": {
    "name": "ipython",
    "version": 3
   },
   "file_extension": ".py",
   "mimetype": "text/x-python",
   "name": "python",
   "nbconvert_exporter": "python",
   "pygments_lexer": "ipython3",
   "version": "3.7.4"
  }
 },
 "nbformat": 4,
 "nbformat_minor": 2
}
